{
 "cells": [
  {
   "cell_type": "markdown",
   "id": "7e67a9a4",
   "metadata": {},
   "source": [
    " __**Author: Aime Munezero**__"
   ]
  },
  {
   "cell_type": "markdown",
   "id": "a306e749",
   "metadata": {},
   "source": [
    "_**Purpose of this work**_\n",
    "\n",
    "\n",
    "> Building a simple - Two Layer neural network from scratch and train it on a simple dataset of gray-scale images of hand-drawn digits (from 0 to 9)."
   ]
  },
  {
   "cell_type": "markdown",
   "id": "b691fe39",
   "metadata": {},
   "source": [
    "_**This work shows step to step of how the neural network operate, which involves:**_\n",
    "\n",
    "    * The data flowing from layer to layer (after it has been fed into the neural network) until we have the output.\n",
    "    * Once the output has been obtained, the error gets computed.\n",
    "    * Finally the parameters (Weight & bias) get adjusted by substracting the derivative of the error with respect to the parameter itself. Then iterate through the process over and over again\n",
    "\n"
   ]
  },
  {
   "cell_type": "code",
   "execution_count": 90,
   "id": "1d3d23a3",
   "metadata": {},
   "outputs": [],
   "source": [
    "#Importing libraries\n",
    "import numpy as np\n",
    "import pandas as pd\n",
    "from matplotlib import pyplot as plt"
   ]
  },
  {
   "cell_type": "code",
   "execution_count": 91,
   "id": "a14c2706",
   "metadata": {},
   "outputs": [],
   "source": [
    "data = pd.read_csv('train.csv')"
   ]
  },
  {
   "cell_type": "code",
   "execution_count": 92,
   "id": "1aa4ebf1",
   "metadata": {},
   "outputs": [
    {
     "data": {
      "text/html": [
       "<div>\n",
       "<style scoped>\n",
       "    .dataframe tbody tr th:only-of-type {\n",
       "        vertical-align: middle;\n",
       "    }\n",
       "\n",
       "    .dataframe tbody tr th {\n",
       "        vertical-align: top;\n",
       "    }\n",
       "\n",
       "    .dataframe thead th {\n",
       "        text-align: right;\n",
       "    }\n",
       "</style>\n",
       "<table border=\"1\" class=\"dataframe\">\n",
       "  <thead>\n",
       "    <tr style=\"text-align: right;\">\n",
       "      <th></th>\n",
       "      <th>label</th>\n",
       "      <th>pixel0</th>\n",
       "      <th>pixel1</th>\n",
       "      <th>pixel2</th>\n",
       "      <th>pixel3</th>\n",
       "      <th>pixel4</th>\n",
       "      <th>pixel5</th>\n",
       "      <th>pixel6</th>\n",
       "      <th>pixel7</th>\n",
       "      <th>pixel8</th>\n",
       "      <th>...</th>\n",
       "      <th>pixel774</th>\n",
       "      <th>pixel775</th>\n",
       "      <th>pixel776</th>\n",
       "      <th>pixel777</th>\n",
       "      <th>pixel778</th>\n",
       "      <th>pixel779</th>\n",
       "      <th>pixel780</th>\n",
       "      <th>pixel781</th>\n",
       "      <th>pixel782</th>\n",
       "      <th>pixel783</th>\n",
       "    </tr>\n",
       "  </thead>\n",
       "  <tbody>\n",
       "    <tr>\n",
       "      <th>0</th>\n",
       "      <td>1</td>\n",
       "      <td>0</td>\n",
       "      <td>0</td>\n",
       "      <td>0</td>\n",
       "      <td>0</td>\n",
       "      <td>0</td>\n",
       "      <td>0</td>\n",
       "      <td>0</td>\n",
       "      <td>0</td>\n",
       "      <td>0</td>\n",
       "      <td>...</td>\n",
       "      <td>0</td>\n",
       "      <td>0</td>\n",
       "      <td>0</td>\n",
       "      <td>0</td>\n",
       "      <td>0</td>\n",
       "      <td>0</td>\n",
       "      <td>0</td>\n",
       "      <td>0</td>\n",
       "      <td>0</td>\n",
       "      <td>0</td>\n",
       "    </tr>\n",
       "    <tr>\n",
       "      <th>1</th>\n",
       "      <td>0</td>\n",
       "      <td>0</td>\n",
       "      <td>0</td>\n",
       "      <td>0</td>\n",
       "      <td>0</td>\n",
       "      <td>0</td>\n",
       "      <td>0</td>\n",
       "      <td>0</td>\n",
       "      <td>0</td>\n",
       "      <td>0</td>\n",
       "      <td>...</td>\n",
       "      <td>0</td>\n",
       "      <td>0</td>\n",
       "      <td>0</td>\n",
       "      <td>0</td>\n",
       "      <td>0</td>\n",
       "      <td>0</td>\n",
       "      <td>0</td>\n",
       "      <td>0</td>\n",
       "      <td>0</td>\n",
       "      <td>0</td>\n",
       "    </tr>\n",
       "    <tr>\n",
       "      <th>2</th>\n",
       "      <td>1</td>\n",
       "      <td>0</td>\n",
       "      <td>0</td>\n",
       "      <td>0</td>\n",
       "      <td>0</td>\n",
       "      <td>0</td>\n",
       "      <td>0</td>\n",
       "      <td>0</td>\n",
       "      <td>0</td>\n",
       "      <td>0</td>\n",
       "      <td>...</td>\n",
       "      <td>0</td>\n",
       "      <td>0</td>\n",
       "      <td>0</td>\n",
       "      <td>0</td>\n",
       "      <td>0</td>\n",
       "      <td>0</td>\n",
       "      <td>0</td>\n",
       "      <td>0</td>\n",
       "      <td>0</td>\n",
       "      <td>0</td>\n",
       "    </tr>\n",
       "    <tr>\n",
       "      <th>3</th>\n",
       "      <td>4</td>\n",
       "      <td>0</td>\n",
       "      <td>0</td>\n",
       "      <td>0</td>\n",
       "      <td>0</td>\n",
       "      <td>0</td>\n",
       "      <td>0</td>\n",
       "      <td>0</td>\n",
       "      <td>0</td>\n",
       "      <td>0</td>\n",
       "      <td>...</td>\n",
       "      <td>0</td>\n",
       "      <td>0</td>\n",
       "      <td>0</td>\n",
       "      <td>0</td>\n",
       "      <td>0</td>\n",
       "      <td>0</td>\n",
       "      <td>0</td>\n",
       "      <td>0</td>\n",
       "      <td>0</td>\n",
       "      <td>0</td>\n",
       "    </tr>\n",
       "    <tr>\n",
       "      <th>4</th>\n",
       "      <td>0</td>\n",
       "      <td>0</td>\n",
       "      <td>0</td>\n",
       "      <td>0</td>\n",
       "      <td>0</td>\n",
       "      <td>0</td>\n",
       "      <td>0</td>\n",
       "      <td>0</td>\n",
       "      <td>0</td>\n",
       "      <td>0</td>\n",
       "      <td>...</td>\n",
       "      <td>0</td>\n",
       "      <td>0</td>\n",
       "      <td>0</td>\n",
       "      <td>0</td>\n",
       "      <td>0</td>\n",
       "      <td>0</td>\n",
       "      <td>0</td>\n",
       "      <td>0</td>\n",
       "      <td>0</td>\n",
       "      <td>0</td>\n",
       "    </tr>\n",
       "    <tr>\n",
       "      <th>...</th>\n",
       "      <td>...</td>\n",
       "      <td>...</td>\n",
       "      <td>...</td>\n",
       "      <td>...</td>\n",
       "      <td>...</td>\n",
       "      <td>...</td>\n",
       "      <td>...</td>\n",
       "      <td>...</td>\n",
       "      <td>...</td>\n",
       "      <td>...</td>\n",
       "      <td>...</td>\n",
       "      <td>...</td>\n",
       "      <td>...</td>\n",
       "      <td>...</td>\n",
       "      <td>...</td>\n",
       "      <td>...</td>\n",
       "      <td>...</td>\n",
       "      <td>...</td>\n",
       "      <td>...</td>\n",
       "      <td>...</td>\n",
       "      <td>...</td>\n",
       "    </tr>\n",
       "    <tr>\n",
       "      <th>41995</th>\n",
       "      <td>0</td>\n",
       "      <td>0</td>\n",
       "      <td>0</td>\n",
       "      <td>0</td>\n",
       "      <td>0</td>\n",
       "      <td>0</td>\n",
       "      <td>0</td>\n",
       "      <td>0</td>\n",
       "      <td>0</td>\n",
       "      <td>0</td>\n",
       "      <td>...</td>\n",
       "      <td>0</td>\n",
       "      <td>0</td>\n",
       "      <td>0</td>\n",
       "      <td>0</td>\n",
       "      <td>0</td>\n",
       "      <td>0</td>\n",
       "      <td>0</td>\n",
       "      <td>0</td>\n",
       "      <td>0</td>\n",
       "      <td>0</td>\n",
       "    </tr>\n",
       "    <tr>\n",
       "      <th>41996</th>\n",
       "      <td>1</td>\n",
       "      <td>0</td>\n",
       "      <td>0</td>\n",
       "      <td>0</td>\n",
       "      <td>0</td>\n",
       "      <td>0</td>\n",
       "      <td>0</td>\n",
       "      <td>0</td>\n",
       "      <td>0</td>\n",
       "      <td>0</td>\n",
       "      <td>...</td>\n",
       "      <td>0</td>\n",
       "      <td>0</td>\n",
       "      <td>0</td>\n",
       "      <td>0</td>\n",
       "      <td>0</td>\n",
       "      <td>0</td>\n",
       "      <td>0</td>\n",
       "      <td>0</td>\n",
       "      <td>0</td>\n",
       "      <td>0</td>\n",
       "    </tr>\n",
       "    <tr>\n",
       "      <th>41997</th>\n",
       "      <td>7</td>\n",
       "      <td>0</td>\n",
       "      <td>0</td>\n",
       "      <td>0</td>\n",
       "      <td>0</td>\n",
       "      <td>0</td>\n",
       "      <td>0</td>\n",
       "      <td>0</td>\n",
       "      <td>0</td>\n",
       "      <td>0</td>\n",
       "      <td>...</td>\n",
       "      <td>0</td>\n",
       "      <td>0</td>\n",
       "      <td>0</td>\n",
       "      <td>0</td>\n",
       "      <td>0</td>\n",
       "      <td>0</td>\n",
       "      <td>0</td>\n",
       "      <td>0</td>\n",
       "      <td>0</td>\n",
       "      <td>0</td>\n",
       "    </tr>\n",
       "    <tr>\n",
       "      <th>41998</th>\n",
       "      <td>6</td>\n",
       "      <td>0</td>\n",
       "      <td>0</td>\n",
       "      <td>0</td>\n",
       "      <td>0</td>\n",
       "      <td>0</td>\n",
       "      <td>0</td>\n",
       "      <td>0</td>\n",
       "      <td>0</td>\n",
       "      <td>0</td>\n",
       "      <td>...</td>\n",
       "      <td>0</td>\n",
       "      <td>0</td>\n",
       "      <td>0</td>\n",
       "      <td>0</td>\n",
       "      <td>0</td>\n",
       "      <td>0</td>\n",
       "      <td>0</td>\n",
       "      <td>0</td>\n",
       "      <td>0</td>\n",
       "      <td>0</td>\n",
       "    </tr>\n",
       "    <tr>\n",
       "      <th>41999</th>\n",
       "      <td>9</td>\n",
       "      <td>0</td>\n",
       "      <td>0</td>\n",
       "      <td>0</td>\n",
       "      <td>0</td>\n",
       "      <td>0</td>\n",
       "      <td>0</td>\n",
       "      <td>0</td>\n",
       "      <td>0</td>\n",
       "      <td>0</td>\n",
       "      <td>...</td>\n",
       "      <td>0</td>\n",
       "      <td>0</td>\n",
       "      <td>0</td>\n",
       "      <td>0</td>\n",
       "      <td>0</td>\n",
       "      <td>0</td>\n",
       "      <td>0</td>\n",
       "      <td>0</td>\n",
       "      <td>0</td>\n",
       "      <td>0</td>\n",
       "    </tr>\n",
       "  </tbody>\n",
       "</table>\n",
       "<p>42000 rows × 785 columns</p>\n",
       "</div>"
      ],
      "text/plain": [
       "       label  pixel0  pixel1  pixel2  pixel3  pixel4  pixel5  pixel6  pixel7  \\\n",
       "0          1       0       0       0       0       0       0       0       0   \n",
       "1          0       0       0       0       0       0       0       0       0   \n",
       "2          1       0       0       0       0       0       0       0       0   \n",
       "3          4       0       0       0       0       0       0       0       0   \n",
       "4          0       0       0       0       0       0       0       0       0   \n",
       "...      ...     ...     ...     ...     ...     ...     ...     ...     ...   \n",
       "41995      0       0       0       0       0       0       0       0       0   \n",
       "41996      1       0       0       0       0       0       0       0       0   \n",
       "41997      7       0       0       0       0       0       0       0       0   \n",
       "41998      6       0       0       0       0       0       0       0       0   \n",
       "41999      9       0       0       0       0       0       0       0       0   \n",
       "\n",
       "       pixel8  ...  pixel774  pixel775  pixel776  pixel777  pixel778  \\\n",
       "0           0  ...         0         0         0         0         0   \n",
       "1           0  ...         0         0         0         0         0   \n",
       "2           0  ...         0         0         0         0         0   \n",
       "3           0  ...         0         0         0         0         0   \n",
       "4           0  ...         0         0         0         0         0   \n",
       "...       ...  ...       ...       ...       ...       ...       ...   \n",
       "41995       0  ...         0         0         0         0         0   \n",
       "41996       0  ...         0         0         0         0         0   \n",
       "41997       0  ...         0         0         0         0         0   \n",
       "41998       0  ...         0         0         0         0         0   \n",
       "41999       0  ...         0         0         0         0         0   \n",
       "\n",
       "       pixel779  pixel780  pixel781  pixel782  pixel783  \n",
       "0             0         0         0         0         0  \n",
       "1             0         0         0         0         0  \n",
       "2             0         0         0         0         0  \n",
       "3             0         0         0         0         0  \n",
       "4             0         0         0         0         0  \n",
       "...         ...       ...       ...       ...       ...  \n",
       "41995         0         0         0         0         0  \n",
       "41996         0         0         0         0         0  \n",
       "41997         0         0         0         0         0  \n",
       "41998         0         0         0         0         0  \n",
       "41999         0         0         0         0         0  \n",
       "\n",
       "[42000 rows x 785 columns]"
      ]
     },
     "execution_count": 92,
     "metadata": {},
     "output_type": "execute_result"
    }
   ],
   "source": [
    "data"
   ]
  },
  {
   "cell_type": "code",
   "execution_count": 93,
   "id": "bd2ee47c",
   "metadata": {},
   "outputs": [
    {
     "data": {
      "text/plain": [
       "(42000, 785)"
      ]
     },
     "execution_count": 93,
     "metadata": {},
     "output_type": "execute_result"
    }
   ],
   "source": [
    "np.array(data).shape"
   ]
  },
  {
   "cell_type": "code",
   "execution_count": 94,
   "id": "73608b86",
   "metadata": {},
   "outputs": [
    {
     "data": {
      "text/plain": [
       "array([  0, 255,  45,  25, 111, 222,  51, 150, 219, 240,  24, 254, 253,\n",
       "        21,  13, 198, 137,  90, 249, 105, 157, 116,  76, 185, 138, 128,\n",
       "        63, 117,  87,   5,  14,  18,   8,  22,  62,  67,  57,  81,  68,\n",
       "       158,  31, 247, 193, 119, 252,  37, 223, 139,  11, 100,  94, 106,\n",
       "         9, 190, 202,   4,  60, 218,  92,  28, 236, 168,  35, 169, 125,\n",
       "       191, 171, 206,  32, 107, 194,  10, 122, 203, 154,   1, 245,  82,\n",
       "       197, 130, 159,  77,  55,   7, 136,  43, 141, 134,  73, 248,  30,\n",
       "        64,  91,   6, 126,  36, 101, 161, 109, 123,  85,  80, 221, 205,\n",
       "       233,  96, 251,  42, 250, 210,  48, 181,  95, 200, 211,  19, 152,\n",
       "        58, 226,  26, 166,  70, 121, 201,  56,  75,  72,   3,  41, 227,\n",
       "       102, 113,  52, 118, 224, 231,  29,  86,  17, 163,  15, 244, 178,\n",
       "        20, 133,  27, 220, 246, 142, 208, 184, 173, 207, 155, 215,  34,\n",
       "        16, 149,  69, 129,  59,  46,   2, 230, 235,  99, 124, 151,  38,\n",
       "       174, 143, 132,  79, 238,  44, 147,  89,  78, 108,  12, 120, 176,\n",
       "        50,  49, 153,  40, 186,  47, 177, 127, 187,  93,  84, 209, 156,\n",
       "       242, 145, 217, 180,  39, 228, 214, 110, 212, 234, 112, 216, 135,\n",
       "        23, 213, 114, 170, 165,  61, 140,  65, 160, 225, 243], dtype=int64)"
      ]
     },
     "execution_count": 94,
     "metadata": {},
     "output_type": "execute_result"
    }
   ],
   "source": [
    "data.pixel200.unique()"
   ]
  },
  {
   "cell_type": "code",
   "execution_count": 95,
   "id": "29fa16e7",
   "metadata": {},
   "outputs": [],
   "source": [
    "#Putting data into Numpy array\n",
    "data = np.array(data)"
   ]
  },
  {
   "cell_type": "code",
   "execution_count": 96,
   "id": "5cacdddd",
   "metadata": {},
   "outputs": [
    {
     "data": {
      "text/plain": [
       "(42000, 785)"
      ]
     },
     "execution_count": 96,
     "metadata": {},
     "output_type": "execute_result"
    }
   ],
   "source": [
    "#Checking the data shape\n",
    "data.shape"
   ]
  },
  {
   "cell_type": "code",
   "execution_count": 97,
   "id": "dc282b3d",
   "metadata": {},
   "outputs": [],
   "source": [
    "m,n = data.shape"
   ]
  },
  {
   "cell_type": "code",
   "execution_count": 98,
   "id": "81d527e5",
   "metadata": {},
   "outputs": [],
   "source": [
    "#Shuffling data to avoid the model to be biased\n",
    "np.random.shuffle(data)"
   ]
  },
  {
   "cell_type": "code",
   "execution_count": 99,
   "id": "98f99eb8",
   "metadata": {},
   "outputs": [
    {
     "data": {
      "text/plain": [
       "(1000, 785)"
      ]
     },
     "execution_count": 99,
     "metadata": {},
     "output_type": "execute_result"
    }
   ],
   "source": [
    "data[0:1000].shape"
   ]
  },
  {
   "cell_type": "code",
   "execution_count": 100,
   "id": "3e5bda7f",
   "metadata": {},
   "outputs": [
    {
     "data": {
      "text/plain": [
       "(785, 1000)"
      ]
     },
     "execution_count": 100,
     "metadata": {},
     "output_type": "execute_result"
    }
   ],
   "source": [
    "data[0:1000].T.shape"
   ]
  },
  {
   "cell_type": "code",
   "execution_count": 101,
   "id": "64ff9780",
   "metadata": {},
   "outputs": [],
   "source": [
    "#Slicing the development set which I will be using to test my model while hyper parameter tuning\n",
    "data_dev = data[0:1000].T\n",
    "Y_dev = data_dev[0]\n",
    "X_dev = data_dev[1:n]\n",
    "X_dev = X_dev / 255"
   ]
  },
  {
   "cell_type": "code",
   "execution_count": 102,
   "id": "2b97648c",
   "metadata": {},
   "outputs": [],
   "source": [
    "#Y_train and X_train\n",
    "\n",
    "data_train = data[1000:m].T\n",
    "Y_train = data_train[0]\n",
    "X_train = data_train[1:n]\n",
    "X_train = X_train / 255.\n",
    "_,m_train = X_train.shape"
   ]
  },
  {
   "cell_type": "code",
   "execution_count": 103,
   "id": "00b3497d",
   "metadata": {},
   "outputs": [],
   "source": [
    "#Initializing parameters for weights with their corresponding shape, and substracting 0.5 to make them \n",
    "#as small as possible \n",
    "def init_params():\n",
    "    W1 = np.random.rand(10, 784) - 0.5\n",
    "    b1 = np.random.rand(10, 1) - 0.5\n",
    "    W2 = np.random.rand(10, 10) - 0.5\n",
    "    b2 = np.random.rand(10, 1) - 0.5\n",
    "    return W1, b1, W2, b2"
   ]
  },
  {
   "cell_type": "code",
   "execution_count": 104,
   "id": "2eb34d0a",
   "metadata": {},
   "outputs": [],
   "source": [
    "#Computing the forward propagation, which will be taking the initialized parameters as \n",
    "#input\n",
    "# Here, as I have to layers, there will also be considered two activation function, which are ReLU and Softmax  \n",
    "\n",
    "#Initializing the RELU activation function\n",
    "\n",
    "def ReLU(Z):\n",
    "    return np.maximum(Z, 0)\n",
    "\n",
    "#Initializing the softmax activation function\n",
    "\n",
    "def softmax(Z):\n",
    "    A = np.exp(Z) / sum(np.exp(Z))\n",
    "    return A\n",
    "\n",
    "#The derivative of RELU\n",
    "\n",
    "def ReLU_deriv(Z):\n",
    "    return Z > 0 #Return 1 if Z > 0 and 0 if not\n",
    "\n",
    "\n",
    "def forward_prop(W1, b1, W2, b2, X):\n",
    "    Z1 = np.dot(W1,X) + b1\n",
    "    A1 = ReLU(Z1)\n",
    "    Z2 = np.dot(W2,A1) + b2\n",
    "    A2 = softmax(Z2)\n",
    "    return Z1, A1, Z2, A2\n"
   ]
  },
  {
   "cell_type": "code",
   "execution_count": 105,
   "id": "716846e0",
   "metadata": {},
   "outputs": [],
   "source": [
    "#Computing the onehot hot encoding for the dependent variable as it contains various numbers\n",
    "\n",
    "def one_hot(Y):\n",
    "    one_hot_Y = np.zeros((Y.size, Y.max() + 1))\n",
    "    one_hot_Y[np.arange(Y.size), Y] = 1\n",
    "    one_hot_Y = one_hot_Y.T\n",
    "    return one_hot_Y\n"
   ]
  },
  {
   "cell_type": "code",
   "execution_count": 106,
   "id": "abf10f0d",
   "metadata": {},
   "outputs": [],
   "source": [
    "#Computing the backward propagation\n",
    "\n",
    "def backward_prop(Z1, A1, Z2, A2, W1, W2, X, Y):\n",
    "    one_hot_Y = one_hot(Y)\n",
    "    dZ2 = A2 - one_hot_Y\n",
    "    dW2 = 1 / m * np.dot(dZ2,A1.T)\n",
    "    db2 = 1 / m * np.sum(dZ2)\n",
    "    dZ1 = np.dot(W2.T,dZ2) * ReLU_deriv(Z1)\n",
    "    dW1 = 1 / m * np.dot(dZ1,X.T)\n",
    "    db1 = 1 / m * np.sum(dZ1)\n",
    "    return dW1, db1, dW2, db2\n"
   ]
  },
  {
   "cell_type": "code",
   "execution_count": 107,
   "id": "24d448ed",
   "metadata": {},
   "outputs": [],
   "source": [
    "#Updating parameters using gradient descent by substracting the original weight with the product of the learning rate and  derivative of the Error with respect to the training parameter\n",
    "\n",
    "def update_params(W1, b1, W2, b2, dW1, db1, dW2, db2, learning_rate):\n",
    "    W1 = W1 - learning_rate * dW1\n",
    "    b1 = b1 - learning_rate * db1    \n",
    "    W2 = W2 - learning_rate * dW2  \n",
    "    b2 = b2 - learning_rate * db2    \n",
    "    return W1, b1, W2, b2"
   ]
  },
  {
   "cell_type": "code",
   "execution_count": 108,
   "id": "f0ea8f33",
   "metadata": {},
   "outputs": [],
   "source": [
    "def get_predictions(A2):\n",
    "    return np.argmax(A2, 0)\n",
    "\n",
    "def get_accuracy(predictions, Y):\n",
    "    print(predictions, Y)\n",
    "    return np.sum(predictions == Y) / Y.size\n"
   ]
  },
  {
   "cell_type": "code",
   "execution_count": 122,
   "id": "2523f743",
   "metadata": {},
   "outputs": [],
   "source": [
    "# Updated parameters using gradient Descent\n",
    "\n",
    "def gradient_descent(X, Y, learning_rate, iterations):\n",
    "    \n",
    "    W1, b1, W2, b2 = init_params()\n",
    "    pred =[]\n",
    "    iterat_ =[]\n",
    "    for i in range(iterations):\n",
    "        Z1, A1, Z2, A2 = forward_prop(W1, b1, W2, b2, X)\n",
    "        dW1, db1, dW2, db2 = backward_prop(Z1, A1, Z2, A2, W1, W2, X, Y)\n",
    "        W1, b1, W2, b2 = update_params(W1, b1, W2, b2, dW1, db1, dW2, db2, learning_rate)\n",
    "        if i % 10 == 0:\n",
    "            print(\"Iteration: \", i)\n",
    "            iterat_.append(i)\n",
    "            predictions = get_predictions(A2)\n",
    "            acc = get_accuracy(predictions, Y)\n",
    "            pred.append(acc)\n",
    "            print(acc)\n",
    "            \n",
    "    plt.plot(iterat_,pred)\n",
    "    \n",
    "    return W1, b1, W2, b2\n"
   ]
  },
  {
   "cell_type": "code",
   "execution_count": 123,
   "id": "de1b2ea2",
   "metadata": {},
   "outputs": [
    {
     "name": "stdout",
     "output_type": "stream",
     "text": [
      "Iteration:  0\n",
      "[9 8 7 ... 8 9 5] [7 5 6 ... 0 2 0]\n",
      "0.08548780487804879\n",
      "Iteration:  10\n",
      "[9 8 7 ... 6 4 5] [7 5 6 ... 0 2 0]\n",
      "0.14007317073170733\n",
      "Iteration:  20\n",
      "[9 8 7 ... 6 4 5] [7 5 6 ... 0 2 0]\n",
      "0.1857560975609756\n",
      "Iteration:  30\n",
      "[9 8 7 ... 6 4 5] [7 5 6 ... 0 2 0]\n",
      "0.2557317073170732\n",
      "Iteration:  40\n",
      "[9 8 6 ... 8 2 5] [7 5 6 ... 0 2 0]\n",
      "0.3364390243902439\n",
      "Iteration:  50\n",
      "[9 8 6 ... 0 2 5] [7 5 6 ... 0 2 0]\n",
      "0.3985609756097561\n",
      "Iteration:  60\n",
      "[9 8 6 ... 0 2 5] [7 5 6 ... 0 2 0]\n",
      "0.4551219512195122\n",
      "Iteration:  70\n",
      "[9 8 6 ... 0 2 0] [7 5 6 ... 0 2 0]\n",
      "0.49346341463414634\n",
      "Iteration:  80\n",
      "[9 8 6 ... 0 2 0] [7 5 6 ... 0 2 0]\n",
      "0.5266585365853659\n",
      "Iteration:  90\n",
      "[9 8 6 ... 0 2 0] [7 5 6 ... 0 2 0]\n",
      "0.5575121951219513\n",
      "Iteration:  100\n",
      "[9 8 6 ... 0 2 0] [7 5 6 ... 0 2 0]\n",
      "0.5856585365853658\n",
      "Iteration:  110\n",
      "[7 8 6 ... 0 2 0] [7 5 6 ... 0 2 0]\n",
      "0.6128048780487805\n",
      "Iteration:  120\n",
      "[7 8 6 ... 0 2 0] [7 5 6 ... 0 2 0]\n",
      "0.6385853658536585\n",
      "Iteration:  130\n",
      "[7 8 6 ... 0 2 0] [7 5 6 ... 0 2 0]\n",
      "0.6621707317073171\n",
      "Iteration:  140\n",
      "[7 8 6 ... 0 2 0] [7 5 6 ... 0 2 0]\n",
      "0.6807804878048781\n",
      "Iteration:  150\n",
      "[7 8 6 ... 0 2 0] [7 5 6 ... 0 2 0]\n",
      "0.6974878048780487\n",
      "Iteration:  160\n",
      "[7 8 6 ... 0 2 0] [7 5 6 ... 0 2 0]\n",
      "0.7121219512195122\n",
      "Iteration:  170\n",
      "[7 8 6 ... 0 2 0] [7 5 6 ... 0 2 0]\n",
      "0.7238048780487805\n",
      "Iteration:  180\n",
      "[7 8 6 ... 0 2 0] [7 5 6 ... 0 2 0]\n",
      "0.7345853658536585\n",
      "Iteration:  190\n",
      "[7 8 6 ... 0 2 0] [7 5 6 ... 0 2 0]\n",
      "0.7445365853658537\n",
      "Iteration:  200\n",
      "[7 8 6 ... 0 2 0] [7 5 6 ... 0 2 0]\n",
      "0.7528048780487805\n",
      "Iteration:  210\n",
      "[7 8 6 ... 0 2 0] [7 5 6 ... 0 2 0]\n",
      "0.7604878048780488\n",
      "Iteration:  220\n",
      "[7 8 6 ... 0 2 0] [7 5 6 ... 0 2 0]\n",
      "0.7668780487804878\n",
      "Iteration:  230\n",
      "[7 8 6 ... 0 2 0] [7 5 6 ... 0 2 0]\n",
      "0.7731219512195122\n",
      "Iteration:  240\n",
      "[7 8 6 ... 0 2 0] [7 5 6 ... 0 2 0]\n",
      "0.7784390243902439\n",
      "Iteration:  250\n",
      "[7 8 6 ... 0 2 0] [7 5 6 ... 0 2 0]\n",
      "0.7841951219512195\n",
      "Iteration:  260\n",
      "[7 8 6 ... 0 2 0] [7 5 6 ... 0 2 0]\n",
      "0.7889756097560976\n",
      "Iteration:  270\n",
      "[7 8 6 ... 0 2 0] [7 5 6 ... 0 2 0]\n",
      "0.7936829268292683\n",
      "Iteration:  280\n",
      "[7 8 6 ... 0 2 0] [7 5 6 ... 0 2 0]\n",
      "0.7977560975609757\n",
      "Iteration:  290\n",
      "[7 8 6 ... 0 2 0] [7 5 6 ... 0 2 0]\n",
      "0.8017073170731708\n",
      "Iteration:  300\n",
      "[7 8 6 ... 0 2 0] [7 5 6 ... 0 2 0]\n",
      "0.8058048780487805\n",
      "Iteration:  310\n",
      "[7 8 6 ... 0 2 0] [7 5 6 ... 0 2 0]\n",
      "0.8093658536585366\n",
      "Iteration:  320\n",
      "[7 8 6 ... 0 2 0] [7 5 6 ... 0 2 0]\n",
      "0.812439024390244\n",
      "Iteration:  330\n",
      "[7 8 6 ... 0 2 0] [7 5 6 ... 0 2 0]\n",
      "0.815390243902439\n",
      "Iteration:  340\n",
      "[7 8 6 ... 0 2 0] [7 5 6 ... 0 2 0]\n",
      "0.8184146341463414\n",
      "Iteration:  350\n",
      "[7 8 6 ... 0 2 0] [7 5 6 ... 0 2 0]\n",
      "0.8206829268292682\n",
      "Iteration:  360\n",
      "[7 8 6 ... 0 2 0] [7 5 6 ... 0 2 0]\n",
      "0.823170731707317\n",
      "Iteration:  370\n",
      "[7 8 6 ... 0 2 0] [7 5 6 ... 0 2 0]\n",
      "0.8253414634146341\n",
      "Iteration:  380\n",
      "[7 8 6 ... 0 2 0] [7 5 6 ... 0 2 0]\n",
      "0.828\n",
      "Iteration:  390\n",
      "[7 8 6 ... 0 2 0] [7 5 6 ... 0 2 0]\n",
      "0.8300975609756097\n",
      "Iteration:  400\n",
      "[7 8 6 ... 0 2 0] [7 5 6 ... 0 2 0]\n",
      "0.8322195121951219\n",
      "Iteration:  410\n",
      "[7 8 6 ... 0 2 0] [7 5 6 ... 0 2 0]\n",
      "0.8345365853658536\n",
      "Iteration:  420\n",
      "[7 8 6 ... 0 2 0] [7 5 6 ... 0 2 0]\n",
      "0.837\n",
      "Iteration:  430\n",
      "[7 8 6 ... 0 2 0] [7 5 6 ... 0 2 0]\n",
      "0.8385121951219512\n",
      "Iteration:  440\n",
      "[7 8 6 ... 0 2 0] [7 5 6 ... 0 2 0]\n",
      "0.8406585365853658\n",
      "Iteration:  450\n",
      "[7 8 6 ... 0 2 0] [7 5 6 ... 0 2 0]\n",
      "0.8422926829268292\n",
      "Iteration:  460\n",
      "[7 8 6 ... 0 2 0] [7 5 6 ... 0 2 0]\n",
      "0.8439756097560975\n",
      "Iteration:  470\n",
      "[7 8 6 ... 0 2 0] [7 5 6 ... 0 2 0]\n",
      "0.8457560975609756\n",
      "Iteration:  480\n",
      "[7 8 6 ... 0 2 0] [7 5 6 ... 0 2 0]\n",
      "0.8471219512195122\n",
      "Iteration:  490\n",
      "[7 8 6 ... 0 2 0] [7 5 6 ... 0 2 0]\n",
      "0.8488048780487805\n"
     ]
    },
    {
     "data": {
      "image/png": "[encoded data removed]",
      "text/plain": [
       "<Figure size 432x288 with 1 Axes>"
      ]
     },
     "metadata": {
      "needs_background": "light"
     },
     "output_type": "display_data"
    }
   ],
   "source": [
    "W1, b1, W2, b2 = gradient_descent(X_train, Y_train, 0.1,500)"
   ]
  },
  {
   "cell_type": "code",
   "execution_count": 114,
   "id": "a58fea92",
   "metadata": {},
   "outputs": [],
   "source": [
    "def make_predictions(X, W1, b1, W2, b2):\n",
    "    _, _, _, A2 = forward_prop(W1, b1, W2, b2, X)\n",
    "    predictions = get_predictions(A2)\n",
    "    return predictions\n",
    "\n",
    "def test_prediction(index, W1, b1, W2, b2):\n",
    "    current_image = X_train[:, index, None]\n",
    "    prediction = make_predictions(X_train[:, index, None], W1, b1, W2, b2)\n",
    "    label = Y_train[index]\n",
    "    print(\"Prediction: \", prediction)\n",
    "    print(\"Label: \", label)\n",
    "    \n",
    "    current_image = current_image.reshape((28, 28)) * 255\n",
    "    plt.gray()\n",
    "    plt.imshow(current_image, interpolation='nearest')\n",
    "    plt.show()"
   ]
  },
  {
   "cell_type": "code",
   "execution_count": 115,
   "id": "64752039",
   "metadata": {},
   "outputs": [
    {
     "name": "stdout",
     "output_type": "stream",
     "text": [
      "Prediction:  [7]\n",
      "Label:  7\n"
     ]
    },
    {
     "data": {
      "image/png": "[encoded data removed]",
      "text/plain": [
       "<Figure size 432x288 with 1 Axes>"
      ]
     },
     "metadata": {
      "needs_background": "light"
     },
     "output_type": "display_data"
    },
    {
     "name": "stdout",
     "output_type": "stream",
     "text": [
      "Prediction:  [8]\n",
      "Label:  5\n"
     ]
    },
    {
     "data": {
      "image/png": "[encoded data removed]",
      "text/plain": [
       "<Figure size 432x288 with 1 Axes>"
      ]
     },
     "metadata": {
      "needs_background": "light"
     },
     "output_type": "display_data"
    },
    {
     "name": "stdout",
     "output_type": "stream",
     "text": [
      "Prediction:  [6]\n",
      "Label:  6\n"
     ]
    },
    {
     "data": {
      "image/png": "[encoded data removed]",
      "text/plain": [
       "<Figure size 432x288 with 1 Axes>"
      ]
     },
     "metadata": {
      "needs_background": "light"
     },
     "output_type": "display_data"
    },
    {
     "name": "stdout",
     "output_type": "stream",
     "text": [
      "Prediction:  [5]\n",
      "Label:  5\n"
     ]
    },
    {
     "data": {
      "image/png": "[encoded data removed]",
      "text/plain": [
       "<Figure size 432x288 with 1 Axes>"
      ]
     },
     "metadata": {
      "needs_background": "light"
     },
     "output_type": "display_data"
    }
   ],
   "source": [
    "test_prediction(0, W1, b1, W2, b2)\n",
    "test_prediction(1, W1, b1, W2, b2)\n",
    "test_prediction(2, W1, b1, W2, b2)\n",
    "test_prediction(3, W1, b1, W2, b2)"
   ]
  }
 ],
 "metadata": {
  "kernelspec": {
   "display_name": "Python 3",
   "language": "python",
   "name": "python3"
  },
  "language_info": {
   "codemirror_mode": {
    "name": "ipython",
    "version": 3
   },
   "file_extension": ".py",
   "mimetype": "text/x-python",
   "name": "python",
   "nbconvert_exporter": "python",
   "pygments_lexer": "ipython3",
   "version": "3.7.11"
  }
 },
 "nbformat": 4,
 "nbformat_minor": 5
}
