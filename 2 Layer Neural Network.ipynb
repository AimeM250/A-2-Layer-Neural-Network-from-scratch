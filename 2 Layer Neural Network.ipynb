{
 "cells": [
  {
   "cell_type": "markdown",
   "id": "862b8991",
   "metadata": {},
   "source": [
    " __**Author: Aime Munezero**__"
   ]
  },
  {
   "cell_type": "markdown",
   "id": "24d28aae",
   "metadata": {},
   "source": [
    "_**Purpose of this work**_\n",
    "\n",
    "> Building a simple - Two Layer neural network from scratch and train it on a simple dataset of gray-scale images of hand-drawn digits (from 0 to 9)."
   ]
  },
  {
   "cell_type": "markdown",
   "id": "b7831cba",
   "metadata": {},
   "source": [
    "_**Within this work, the flow of how data gets trained in a Neural Network has been portrayed below:**_\n",
    "\n",
    "    * The inputs (data) movement from layer to layer (after it has been fed into the neural network) until the output has been obtained.\n",
    "    * The error computation after the output has been obtained, .\n",
    "    * Adjustment of parameters (Weight & bias) computed from substracting the derivative of the error with respect to the parameter itself.",
    "\n"
   ]
  },
  {
   "cell_type": "code",
   "execution_count": 2,
   "id": "9b04f81b",
   "metadata": {},
   "outputs": [],
   "source": [
    "#Importing libraries\n",
    "import numpy as np\n",
    "import pandas as pd\n",
    "from matplotlib import pyplot as plt"
   ]
  },
  {
   "cell_type": "code",
   "execution_count": 3,
   "id": "711e0b2d",
   "metadata": {},
   "outputs": [],
   "source": [
    "data = pd.read_csv('train.csv')"
   ]
  },
  {
   "cell_type": "code",
   "execution_count": 4,
   "id": "6347a7a5",
   "metadata": {},
   "outputs": [
    {
     "data": {
      "text/html": [
       "<div>\n",
       "<style scoped>\n",
       "    .dataframe tbody tr th:only-of-type {\n",
       "        vertical-align: middle;\n",
       "    }\n",
       "\n",
       "    .dataframe tbody tr th {\n",
       "        vertical-align: top;\n",
       "    }\n",
       "\n",
       "    .dataframe thead th {\n",
       "        text-align: right;\n",
       "    }\n",
       "</style>\n",
       "<table border=\"1\" class=\"dataframe\">\n",
       "  <thead>\n",
       "    <tr style=\"text-align: right;\">\n",
       "      <th></th>\n",
       "      <th>label</th>\n",
       "      <th>pixel0</th>\n",
       "      <th>pixel1</th>\n",
       "      <th>pixel2</th>\n",
       "      <th>pixel3</th>\n",
       "      <th>pixel4</th>\n",
       "      <th>pixel5</th>\n",
       "      <th>pixel6</th>\n",
       "      <th>pixel7</th>\n",
       "      <th>pixel8</th>\n",
       "      <th>...</th>\n",
       "      <th>pixel774</th>\n",
       "      <th>pixel775</th>\n",
       "      <th>pixel776</th>\n",
       "      <th>pixel777</th>\n",
       "      <th>pixel778</th>\n",
       "      <th>pixel779</th>\n",
       "      <th>pixel780</th>\n",
       "      <th>pixel781</th>\n",
       "      <th>pixel782</th>\n",
       "      <th>pixel783</th>\n",
       "    </tr>\n",
       "  </thead>\n",
       "  <tbody>\n",
       "    <tr>\n",
       "      <th>0</th>\n",
       "      <td>1</td>\n",
       "      <td>0</td>\n",
       "      <td>0</td>\n",
       "      <td>0</td>\n",
       "      <td>0</td>\n",
       "      <td>0</td>\n",
       "      <td>0</td>\n",
       "      <td>0</td>\n",
       "      <td>0</td>\n",
       "      <td>0</td>\n",
       "      <td>...</td>\n",
       "      <td>0</td>\n",
       "      <td>0</td>\n",
       "      <td>0</td>\n",
       "      <td>0</td>\n",
       "      <td>0</td>\n",
       "      <td>0</td>\n",
       "      <td>0</td>\n",
       "      <td>0</td>\n",
       "      <td>0</td>\n",
       "      <td>0</td>\n",
       "    </tr>\n",
       "    <tr>\n",
       "      <th>1</th>\n",
       "      <td>0</td>\n",
       "      <td>0</td>\n",
       "      <td>0</td>\n",
       "      <td>0</td>\n",
       "      <td>0</td>\n",
       "      <td>0</td>\n",
       "      <td>0</td>\n",
       "      <td>0</td>\n",
       "      <td>0</td>\n",
       "      <td>0</td>\n",
       "      <td>...</td>\n",
       "      <td>0</td>\n",
       "      <td>0</td>\n",
       "      <td>0</td>\n",
       "      <td>0</td>\n",
       "      <td>0</td>\n",
       "      <td>0</td>\n",
       "      <td>0</td>\n",
       "      <td>0</td>\n",
       "      <td>0</td>\n",
       "      <td>0</td>\n",
       "    </tr>\n",
       "    <tr>\n",
       "      <th>2</th>\n",
       "      <td>1</td>\n",
       "      <td>0</td>\n",
       "      <td>0</td>\n",
       "      <td>0</td>\n",
       "      <td>0</td>\n",
       "      <td>0</td>\n",
       "      <td>0</td>\n",
       "      <td>0</td>\n",
       "      <td>0</td>\n",
       "      <td>0</td>\n",
       "      <td>...</td>\n",
       "      <td>0</td>\n",
       "      <td>0</td>\n",
       "      <td>0</td>\n",
       "      <td>0</td>\n",
       "      <td>0</td>\n",
       "      <td>0</td>\n",
       "      <td>0</td>\n",
       "      <td>0</td>\n",
       "      <td>0</td>\n",
       "      <td>0</td>\n",
       "    </tr>\n",
       "    <tr>\n",
       "      <th>3</th>\n",
       "      <td>4</td>\n",
       "      <td>0</td>\n",
       "      <td>0</td>\n",
       "      <td>0</td>\n",
       "      <td>0</td>\n",
       "      <td>0</td>\n",
       "      <td>0</td>\n",
       "      <td>0</td>\n",
       "      <td>0</td>\n",
       "      <td>0</td>\n",
       "      <td>...</td>\n",
       "      <td>0</td>\n",
       "      <td>0</td>\n",
       "      <td>0</td>\n",
       "      <td>0</td>\n",
       "      <td>0</td>\n",
       "      <td>0</td>\n",
       "      <td>0</td>\n",
       "      <td>0</td>\n",
       "      <td>0</td>\n",
       "      <td>0</td>\n",
       "    </tr>\n",
       "    <tr>\n",
       "      <th>4</th>\n",
       "      <td>0</td>\n",
       "      <td>0</td>\n",
       "      <td>0</td>\n",
       "      <td>0</td>\n",
       "      <td>0</td>\n",
       "      <td>0</td>\n",
       "      <td>0</td>\n",
       "      <td>0</td>\n",
       "      <td>0</td>\n",
       "      <td>0</td>\n",
       "      <td>...</td>\n",
       "      <td>0</td>\n",
       "      <td>0</td>\n",
       "      <td>0</td>\n",
       "      <td>0</td>\n",
       "      <td>0</td>\n",
       "      <td>0</td>\n",
       "      <td>0</td>\n",
       "      <td>0</td>\n",
       "      <td>0</td>\n",
       "      <td>0</td>\n",
       "    </tr>\n",
       "    <tr>\n",
       "      <th>...</th>\n",
       "      <td>...</td>\n",
       "      <td>...</td>\n",
       "      <td>...</td>\n",
       "      <td>...</td>\n",
       "      <td>...</td>\n",
       "      <td>...</td>\n",
       "      <td>...</td>\n",
       "      <td>...</td>\n",
       "      <td>...</td>\n",
       "      <td>...</td>\n",
       "      <td>...</td>\n",
       "      <td>...</td>\n",
       "      <td>...</td>\n",
       "      <td>...</td>\n",
       "      <td>...</td>\n",
       "      <td>...</td>\n",
       "      <td>...</td>\n",
       "      <td>...</td>\n",
       "      <td>...</td>\n",
       "      <td>...</td>\n",
       "      <td>...</td>\n",
       "    </tr>\n",
       "    <tr>\n",
       "      <th>41995</th>\n",
       "      <td>0</td>\n",
       "      <td>0</td>\n",
       "      <td>0</td>\n",
       "      <td>0</td>\n",
       "      <td>0</td>\n",
       "      <td>0</td>\n",
       "      <td>0</td>\n",
       "      <td>0</td>\n",
       "      <td>0</td>\n",
       "      <td>0</td>\n",
       "      <td>...</td>\n",
       "      <td>0</td>\n",
       "      <td>0</td>\n",
       "      <td>0</td>\n",
       "      <td>0</td>\n",
       "      <td>0</td>\n",
       "      <td>0</td>\n",
       "      <td>0</td>\n",
       "      <td>0</td>\n",
       "      <td>0</td>\n",
       "      <td>0</td>\n",
       "    </tr>\n",
       "    <tr>\n",
       "      <th>41996</th>\n",
       "      <td>1</td>\n",
       "      <td>0</td>\n",
       "      <td>0</td>\n",
       "      <td>0</td>\n",
       "      <td>0</td>\n",
       "      <td>0</td>\n",
       "      <td>0</td>\n",
       "      <td>0</td>\n",
       "      <td>0</td>\n",
       "      <td>0</td>\n",
       "      <td>...</td>\n",
       "      <td>0</td>\n",
       "      <td>0</td>\n",
       "      <td>0</td>\n",
       "      <td>0</td>\n",
       "      <td>0</td>\n",
       "      <td>0</td>\n",
       "      <td>0</td>\n",
       "      <td>0</td>\n",
       "      <td>0</td>\n",
       "      <td>0</td>\n",
       "    </tr>\n",
       "    <tr>\n",
       "      <th>41997</th>\n",
       "      <td>7</td>\n",
       "      <td>0</td>\n",
       "      <td>0</td>\n",
       "      <td>0</td>\n",
       "      <td>0</td>\n",
       "      <td>0</td>\n",
       "      <td>0</td>\n",
       "      <td>0</td>\n",
       "      <td>0</td>\n",
       "      <td>0</td>\n",
       "      <td>...</td>\n",
       "      <td>0</td>\n",
       "      <td>0</td>\n",
       "      <td>0</td>\n",
       "      <td>0</td>\n",
       "      <td>0</td>\n",
       "      <td>0</td>\n",
       "      <td>0</td>\n",
       "      <td>0</td>\n",
       "      <td>0</td>\n",
       "      <td>0</td>\n",
       "    </tr>\n",
       "    <tr>\n",
       "      <th>41998</th>\n",
       "      <td>6</td>\n",
       "      <td>0</td>\n",
       "      <td>0</td>\n",
       "      <td>0</td>\n",
       "      <td>0</td>\n",
       "      <td>0</td>\n",
       "      <td>0</td>\n",
       "      <td>0</td>\n",
       "      <td>0</td>\n",
       "      <td>0</td>\n",
       "      <td>...</td>\n",
       "      <td>0</td>\n",
       "      <td>0</td>\n",
       "      <td>0</td>\n",
       "      <td>0</td>\n",
       "      <td>0</td>\n",
       "      <td>0</td>\n",
       "      <td>0</td>\n",
       "      <td>0</td>\n",
       "      <td>0</td>\n",
       "      <td>0</td>\n",
       "    </tr>\n",
       "    <tr>\n",
       "      <th>41999</th>\n",
       "      <td>9</td>\n",
       "      <td>0</td>\n",
       "      <td>0</td>\n",
       "      <td>0</td>\n",
       "      <td>0</td>\n",
       "      <td>0</td>\n",
       "      <td>0</td>\n",
       "      <td>0</td>\n",
       "      <td>0</td>\n",
       "      <td>0</td>\n",
       "      <td>...</td>\n",
       "      <td>0</td>\n",
       "      <td>0</td>\n",
       "      <td>0</td>\n",
       "      <td>0</td>\n",
       "      <td>0</td>\n",
       "      <td>0</td>\n",
       "      <td>0</td>\n",
       "      <td>0</td>\n",
       "      <td>0</td>\n",
       "      <td>0</td>\n",
       "    </tr>\n",
       "  </tbody>\n",
       "</table>\n",
       "<p>42000 rows × 785 columns</p>\n",
       "</div>"
      ],
      "text/plain": [
       "       label  pixel0  pixel1  pixel2  pixel3  pixel4  pixel5  pixel6  pixel7  \\\n",
       "0          1       0       0       0       0       0       0       0       0   \n",
       "1          0       0       0       0       0       0       0       0       0   \n",
       "2          1       0       0       0       0       0       0       0       0   \n",
       "3          4       0       0       0       0       0       0       0       0   \n",
       "4          0       0       0       0       0       0       0       0       0   \n",
       "...      ...     ...     ...     ...     ...     ...     ...     ...     ...   \n",
       "41995      0       0       0       0       0       0       0       0       0   \n",
       "41996      1       0       0       0       0       0       0       0       0   \n",
       "41997      7       0       0       0       0       0       0       0       0   \n",
       "41998      6       0       0       0       0       0       0       0       0   \n",
       "41999      9       0       0       0       0       0       0       0       0   \n",
       "\n",
       "       pixel8  ...  pixel774  pixel775  pixel776  pixel777  pixel778  \\\n",
       "0           0  ...         0         0         0         0         0   \n",
       "1           0  ...         0         0         0         0         0   \n",
       "2           0  ...         0         0         0         0         0   \n",
       "3           0  ...         0         0         0         0         0   \n",
       "4           0  ...         0         0         0         0         0   \n",
       "...       ...  ...       ...       ...       ...       ...       ...   \n",
       "41995       0  ...         0         0         0         0         0   \n",
       "41996       0  ...         0         0         0         0         0   \n",
       "41997       0  ...         0         0         0         0         0   \n",
       "41998       0  ...         0         0         0         0         0   \n",
       "41999       0  ...         0         0         0         0         0   \n",
       "\n",
       "       pixel779  pixel780  pixel781  pixel782  pixel783  \n",
       "0             0         0         0         0         0  \n",
       "1             0         0         0         0         0  \n",
       "2             0         0         0         0         0  \n",
       "3             0         0         0         0         0  \n",
       "4             0         0         0         0         0  \n",
       "...         ...       ...       ...       ...       ...  \n",
       "41995         0         0         0         0         0  \n",
       "41996         0         0         0         0         0  \n",
       "41997         0         0         0         0         0  \n",
       "41998         0         0         0         0         0  \n",
       "41999         0         0         0         0         0  \n",
       "\n",
       "[42000 rows x 785 columns]"
      ]
     },
     "execution_count": 4,
     "metadata": {},
     "output_type": "execute_result"
    }
   ],
   "source": [
    "data"
   ]
  },
  {
   "cell_type": "code",
   "execution_count": 5,
   "id": "f96a23c9",
   "metadata": {},
   "outputs": [
    {
     "data": {
      "text/plain": [
       "(42000, 785)"
      ]
     },
     "execution_count": 5,
     "metadata": {},
     "output_type": "execute_result"
    }
   ],
   "source": [
    "np.array(data).shape"
   ]
  },
  {
   "cell_type": "code",
   "execution_count": 6,
   "id": "93ba2031",
   "metadata": {},
   "outputs": [
    {
     "data": {
      "text/plain": [
       "array([  0, 255,  45,  25, 111, 222,  51, 150, 219, 240,  24, 254, 253,\n",
       "        21,  13, 198, 137,  90, 249, 105, 157, 116,  76, 185, 138, 128,\n",
       "        63, 117,  87,   5,  14,  18,   8,  22,  62,  67,  57,  81,  68,\n",
       "       158,  31, 247, 193, 119, 252,  37, 223, 139,  11, 100,  94, 106,\n",
       "         9, 190, 202,   4,  60, 218,  92,  28, 236, 168,  35, 169, 125,\n",
       "       191, 171, 206,  32, 107, 194,  10, 122, 203, 154,   1, 245,  82,\n",
       "       197, 130, 159,  77,  55,   7, 136,  43, 141, 134,  73, 248,  30,\n",
       "        64,  91,   6, 126,  36, 101, 161, 109, 123,  85,  80, 221, 205,\n",
       "       233,  96, 251,  42, 250, 210,  48, 181,  95, 200, 211,  19, 152,\n",
       "        58, 226,  26, 166,  70, 121, 201,  56,  75,  72,   3,  41, 227,\n",
       "       102, 113,  52, 118, 224, 231,  29,  86,  17, 163,  15, 244, 178,\n",
       "        20, 133,  27, 220, 246, 142, 208, 184, 173, 207, 155, 215,  34,\n",
       "        16, 149,  69, 129,  59,  46,   2, 230, 235,  99, 124, 151,  38,\n",
       "       174, 143, 132,  79, 238,  44, 147,  89,  78, 108,  12, 120, 176,\n",
       "        50,  49, 153,  40, 186,  47, 177, 127, 187,  93,  84, 209, 156,\n",
       "       242, 145, 217, 180,  39, 228, 214, 110, 212, 234, 112, 216, 135,\n",
       "        23, 213, 114, 170, 165,  61, 140,  65, 160, 225, 243], dtype=int64)"
      ]
     },
     "execution_count": 6,
     "metadata": {},
     "output_type": "execute_result"
    }
   ],
   "source": [
    "data.pixel200.unique()"
   ]
  },
  {
   "cell_type": "code",
   "execution_count": 7,
   "id": "429e52a1",
   "metadata": {},
   "outputs": [],
   "source": [
    "#Putting data into Numpy array\n",
    "data = np.array(data)"
   ]
  },
  {
   "cell_type": "code",
   "execution_count": 8,
   "id": "463f2741",
   "metadata": {},
   "outputs": [
    {
     "data": {
      "text/plain": [
       "(42000, 785)"
      ]
     },
     "execution_count": 8,
     "metadata": {},
     "output_type": "execute_result"
    }
   ],
   "source": [
    "#Checking the data shape\n",
    "data.shape"
   ]
  },
  {
   "cell_type": "code",
   "execution_count": 9,
   "id": "2d9a2890",
   "metadata": {},
   "outputs": [],
   "source": [
    "m,n = data.shape"
   ]
  },
  {
   "cell_type": "code",
   "execution_count": 10,
   "id": "24bbdc57",
   "metadata": {},
   "outputs": [],
   "source": [
    "#Shuffling data to avoid the model to be biased\n",
    "np.random.shuffle(data)"
   ]
  },
  {
   "cell_type": "code",
   "execution_count": 11,
   "id": "ac66d045",
   "metadata": {},
   "outputs": [
    {
     "data": {
      "text/plain": [
       "(1000, 785)"
      ]
     },
     "execution_count": 11,
     "metadata": {},
     "output_type": "execute_result"
    }
   ],
   "source": [
    "data[0:1000].shape"
   ]
  },
  {
   "cell_type": "code",
   "execution_count": 12,
   "id": "b8803e0f",
   "metadata": {},
   "outputs": [
    {
     "data": {
      "text/plain": [
       "(785, 1000)"
      ]
     },
     "execution_count": 12,
     "metadata": {},
     "output_type": "execute_result"
    }
   ],
   "source": [
    "data[0:1000].T.shape"
   ]
  },
  {
   "cell_type": "code",
   "execution_count": 13,
   "id": "29b41dd8",
   "metadata": {},
   "outputs": [],
   "source": [
    "#Slicing the development set which I will be using to test my model while hyper parameter tuning\n",
    "data_dev = data[0:1000].T\n",
    "Y_dev = data_dev[0]\n",
    "X_dev = data_dev[1:n]\n",
    "X_dev = X_dev / 255"
   ]
  },
  {
   "cell_type": "code",
   "execution_count": 14,
   "id": "00c3add5",
   "metadata": {},
   "outputs": [],
   "source": [
    "#Y_train and X_train\n",
    "\n",
    "data_train = data[1000:m].T\n",
    "Y_train = data_train[0]\n",
    "X_train = data_train[1:n]\n",
    "X_train = X_train / 255.\n",
    "_,m_train = X_train.shape"
   ]
  },
  {
   "cell_type": "code",
   "execution_count": 15,
   "id": "63bf423b",
   "metadata": {},
   "outputs": [],
   "source": [
    "#Initializing parameters for weights with their corresponding shape, and substracting 0.5 to make them \n",
    "#as small as possible \n",
    "def init_params():\n",
    "    W1 = np.random.rand(10, 784) - 0.5\n",
    "    b1 = np.random.rand(10, 1) - 0.5\n",
    "    W2 = np.random.rand(10, 10) - 0.5\n",
    "    b2 = np.random.rand(10, 1) - 0.5\n",
    "    return W1, b1, W2, b2"
   ]
  },
  {
   "cell_type": "code",
   "execution_count": 16,
   "id": "028261f9",
   "metadata": {},
   "outputs": [],
   "source": [
    "#Computing the forward propagation, which will be taking the initialized parameters as \n",
    "#input\n",
    "# Here, as I have to layers, there will also be considered two activation function, which are ReLU and Softmax  \n",
    "\n",
    "#Initializing the RELU activation function\n",
    "\n",
    "def ReLU(Z):\n",
    "    return np.maximum(Z, 0)\n",
    "\n",
    "#Initializing the softmax activation function\n",
    "\n",
    "def softmax(Z):\n",
    "    A = np.exp(Z) / sum(np.exp(Z))\n",
    "    return A\n",
    "\n",
    "#The derivative of RELU\n",
    "\n",
    "def ReLU_deriv(Z):\n",
    "    return Z > 0 #Return 1 if Z > 0 and 0 if not\n",
    "\n",
    "\n",
    "def forward_prop(W1, b1, W2, b2, X):\n",
    "    Z1 = np.dot(W1,X) + b1\n",
    "    A1 = ReLU(Z1)\n",
    "    Z2 = np.dot(W2,A1) + b2\n",
    "    A2 = softmax(Z2)\n",
    "    return Z1, A1, Z2, A2\n"
   ]
  },
  {
   "cell_type": "code",
   "execution_count": 17,
   "id": "19574040",
   "metadata": {},
   "outputs": [],
   "source": [
    "#Computing the onehot hot encoding for the dependent variable as it contains various numbers\n",
    "\n",
    "def one_hot(Y):\n",
    "    one_hot_Y = np.zeros((Y.size, Y.max() + 1))\n",
    "    one_hot_Y[np.arange(Y.size), Y] = 1\n",
    "    one_hot_Y = one_hot_Y.T\n",
    "    return one_hot_Y\n"
   ]
  },
  {
   "cell_type": "code",
   "execution_count": 18,
   "id": "83773b63",
   "metadata": {},
   "outputs": [],
   "source": [
    "#Computing the backward propagation\n",
    "\n",
    "def backward_prop(Z1, A1, Z2, A2, W1, W2, X, Y):\n",
    "    one_hot_Y = one_hot(Y)\n",
    "    dZ2 = A2 - one_hot_Y\n",
    "    dW2 = 1 / m * np.dot(dZ2,A1.T)\n",
    "    db2 = 1 / m * np.sum(dZ2)\n",
    "    dZ1 = np.dot(W2.T,dZ2) * ReLU_deriv(Z1)\n",
    "    dW1 = 1 / m * np.dot(dZ1,X.T)\n",
    "    db1 = 1 / m * np.sum(dZ1)\n",
    "    return dW1, db1, dW2, db2\n"
   ]
  },
  {
   "cell_type": "code",
   "execution_count": 19,
   "id": "a4efc0fd",
   "metadata": {},
   "outputs": [],
   "source": [
    "#Updating parameters using gradient descent by substracting the original weight with the product of the learning rate and  derivative of the Error with respect to the training parameter\n",
    "\n",
    "def update_params(W1, b1, W2, b2, dW1, db1, dW2, db2, learning_rate):\n",
    "    W1 = W1 - learning_rate * dW1\n",
    "    b1 = b1 - learning_rate * db1    \n",
    "    W2 = W2 - learning_rate * dW2  \n",
    "    b2 = b2 - learning_rate * db2    \n",
    "    return W1, b1, W2, b2"
   ]
  },
  {
   "cell_type": "code",
   "execution_count": 20,
   "id": "c1cdfa31",
   "metadata": {},
   "outputs": [],
   "source": [
    "def get_predictions(A2):\n",
    "    return np.argmax(A2, 0)\n",
    "\n",
    "def get_accuracy(predictions, Y):\n",
    "    print(predictions, Y)\n",
    "    return np.sum(predictions == Y) / Y.size\n"
   ]
  },
  {
   "cell_type": "code",
   "execution_count": 21,
   "id": "57be7f3a",
   "metadata": {},
   "outputs": [],
   "source": [
    "# Updated parameters using gradient Descent\n",
    "\n",
    "def gradient_descent(X, Y, learning_rate, iterations):\n",
    "    \n",
    "    W1, b1, W2, b2 = init_params()\n",
    "    pred =[]\n",
    "    iterat_ =[]\n",
    "    for i in range(iterations):\n",
    "        Z1, A1, Z2, A2 = forward_prop(W1, b1, W2, b2, X)\n",
    "        dW1, db1, dW2, db2 = backward_prop(Z1, A1, Z2, A2, W1, W2, X, Y)\n",
    "        W1, b1, W2, b2 = update_params(W1, b1, W2, b2, dW1, db1, dW2, db2, learning_rate)\n",
    "        if i % 10 == 0:\n",
    "            print(\"Iteration: \", i)\n",
    "            iterat_.append(i)\n",
    "            predictions = get_predictions(A2)\n",
    "            acc = get_accuracy(predictions, Y)\n",
    "            pred.append(acc)\n",
    "            print(acc)\n",
    "            \n",
    "    plt.plot(iterat_,pred)\n",
    "    \n",
    "    return W1, b1, W2, b2\n"
   ]
  },
  {
   "cell_type": "code",
   "execution_count": 26,
   "id": "0ade6739",
   "metadata": {},
   "outputs": [
    {
     "name": "stdout",
     "output_type": "stream",
     "text": [
      "Iteration:  0\n",
      "[8 7 7 ... 7 7 9] [1 7 3 ... 1 4 1]\n",
      "0.13878048780487806\n",
      "Iteration:  10\n",
      "[8 3 7 ... 7 7 9] [1 7 3 ... 1 4 1]\n",
      "0.16429268292682928\n",
      "Iteration:  20\n",
      "[1 3 3 ... 7 7 9] [1 7 3 ... 1 4 1]\n",
      "0.20190243902439026\n",
      "Iteration:  30\n",
      "[1 7 3 ... 7 7 1] [1 7 3 ... 1 4 1]\n",
      "0.29421951219512193\n",
      "Iteration:  40\n",
      "[1 4 3 ... 7 7 1] [1 7 3 ... 1 4 1]\n",
      "0.343609756097561\n",
      "Iteration:  50\n",
      "[1 4 6 ... 1 7 1] [1 7 3 ... 1 4 1]\n",
      "0.3917560975609756\n",
      "Iteration:  60\n",
      "[1 4 6 ... 1 9 1] [1 7 3 ... 1 4 1]\n",
      "0.4324390243902439\n",
      "Iteration:  70\n",
      "[1 4 6 ... 1 9 1] [1 7 3 ... 1 4 1]\n",
      "0.4677317073170732\n",
      "Iteration:  80\n",
      "[1 4 6 ... 1 9 1] [1 7 3 ... 1 4 1]\n",
      "0.5011951219512195\n",
      "Iteration:  90\n",
      "[1 4 6 ... 1 9 1] [1 7 3 ... 1 4 1]\n",
      "0.5320731707317073\n",
      "Iteration:  100\n",
      "[1 4 6 ... 1 9 1] [1 7 3 ... 1 4 1]\n",
      "0.5602926829268293\n",
      "Iteration:  110\n",
      "[1 4 6 ... 1 9 1] [1 7 3 ... 1 4 1]\n",
      "0.5879756097560975\n",
      "Iteration:  120\n",
      "[1 4 3 ... 1 9 1] [1 7 3 ... 1 4 1]\n",
      "0.611780487804878\n",
      "Iteration:  130\n",
      "[1 4 3 ... 1 9 1] [1 7 3 ... 1 4 1]\n",
      "0.6312926829268293\n",
      "Iteration:  140\n",
      "[1 7 3 ... 1 9 1] [1 7 3 ... 1 4 1]\n",
      "0.6508536585365854\n",
      "Iteration:  150\n",
      "[1 7 3 ... 1 9 1] [1 7 3 ... 1 4 1]\n",
      "0.6690975609756098\n",
      "Iteration:  160\n",
      "[1 7 3 ... 1 9 1] [1 7 3 ... 1 4 1]\n",
      "0.6854634146341464\n",
      "Iteration:  170\n",
      "[1 7 3 ... 1 9 1] [1 7 3 ... 1 4 1]\n",
      "0.6997560975609756\n",
      "Iteration:  180\n",
      "[1 7 3 ... 1 9 1] [1 7 3 ... 1 4 1]\n",
      "0.7130975609756097\n",
      "Iteration:  190\n",
      "[1 7 3 ... 1 9 1] [1 7 3 ... 1 4 1]\n",
      "0.724780487804878\n",
      "Iteration:  200\n",
      "[1 7 3 ... 1 9 1] [1 7 3 ... 1 4 1]\n",
      "0.7350487804878049\n",
      "Iteration:  210\n",
      "[1 7 3 ... 1 4 1] [1 7 3 ... 1 4 1]\n",
      "0.744219512195122\n",
      "Iteration:  220\n",
      "[1 7 3 ... 1 4 1] [1 7 3 ... 1 4 1]\n",
      "0.7526829268292683\n",
      "Iteration:  230\n",
      "[1 7 3 ... 1 4 1] [1 7 3 ... 1 4 1]\n",
      "0.7601707317073171\n",
      "Iteration:  240\n",
      "[1 7 3 ... 1 4 1] [1 7 3 ... 1 4 1]\n",
      "0.7675365853658537\n",
      "Iteration:  250\n",
      "[1 7 3 ... 1 4 1] [1 7 3 ... 1 4 1]\n",
      "0.7729268292682927\n",
      "Iteration:  260\n",
      "[1 7 3 ... 1 4 1] [1 7 3 ... 1 4 1]\n",
      "0.7784146341463415\n",
      "Iteration:  270\n",
      "[1 7 3 ... 1 4 1] [1 7 3 ... 1 4 1]\n",
      "0.7833658536585366\n",
      "Iteration:  280\n",
      "[1 7 3 ... 1 4 1] [1 7 3 ... 1 4 1]\n",
      "0.7879512195121952\n",
      "Iteration:  290\n",
      "[1 7 3 ... 1 4 1] [1 7 3 ... 1 4 1]\n",
      "0.7919024390243903\n",
      "Iteration:  300\n",
      "[1 7 3 ... 1 4 1] [1 7 3 ... 1 4 1]\n",
      "0.7966341463414635\n",
      "Iteration:  310\n",
      "[1 7 3 ... 1 4 1] [1 7 3 ... 1 4 1]\n",
      "0.8001463414634147\n",
      "Iteration:  320\n",
      "[1 7 3 ... 1 4 1] [1 7 3 ... 1 4 1]\n",
      "0.8040731707317074\n",
      "Iteration:  330\n",
      "[1 7 3 ... 1 4 1] [1 7 3 ... 1 4 1]\n",
      "0.807439024390244\n",
      "Iteration:  340\n",
      "[1 7 3 ... 1 4 1] [1 7 3 ... 1 4 1]\n",
      "0.8106341463414635\n",
      "Iteration:  350\n",
      "[1 7 3 ... 1 4 1] [1 7 3 ... 1 4 1]\n",
      "0.8143658536585365\n",
      "Iteration:  360\n",
      "[1 7 3 ... 1 4 1] [1 7 3 ... 1 4 1]\n",
      "0.8168048780487804\n",
      "Iteration:  370\n",
      "[1 7 3 ... 1 4 1] [1 7 3 ... 1 4 1]\n",
      "0.8194634146341463\n",
      "Iteration:  380\n",
      "[1 7 3 ... 1 4 1] [1 7 3 ... 1 4 1]\n",
      "0.8216829268292682\n",
      "Iteration:  390\n",
      "[1 7 3 ... 1 4 1] [1 7 3 ... 1 4 1]\n",
      "0.8242682926829268\n",
      "Iteration:  400\n",
      "[1 7 3 ... 1 4 1] [1 7 3 ... 1 4 1]\n",
      "0.8268780487804878\n",
      "Iteration:  410\n",
      "[1 7 3 ... 1 4 1] [1 7 3 ... 1 4 1]\n",
      "0.8291219512195122\n",
      "Iteration:  420\n",
      "[1 7 3 ... 1 4 1] [1 7 3 ... 1 4 1]\n",
      "0.8315121951219512\n",
      "Iteration:  430\n",
      "[1 7 3 ... 1 4 1] [1 7 3 ... 1 4 1]\n",
      "0.8334146341463414\n",
      "Iteration:  440\n",
      "[1 7 3 ... 1 4 1] [1 7 3 ... 1 4 1]\n",
      "0.8349268292682926\n",
      "Iteration:  450\n",
      "[1 7 3 ... 1 4 1] [1 7 3 ... 1 4 1]\n",
      "0.8370487804878048\n",
      "Iteration:  460\n",
      "[1 7 3 ... 1 4 1] [1 7 3 ... 1 4 1]\n",
      "0.8385609756097561\n",
      "Iteration:  470\n",
      "[1 7 3 ... 1 4 1] [1 7 3 ... 1 4 1]\n",
      "0.840170731707317\n",
      "Iteration:  480\n",
      "[1 7 3 ... 1 4 1] [1 7 3 ... 1 4 1]\n",
      "0.8418536585365853\n",
      "Iteration:  490\n",
      "[1 7 3 ... 1 4 1] [1 7 3 ... 1 4 1]\n",
      "0.8436585365853658\n"
     ]
    },
    {
     "data": {
      "image/png": "[encoded data removed]",
      "text/plain": [
       "<Figure size 432x288 with 1 Axes>"
      ]
     },
     "metadata": {
      "needs_background": "light"
     },
     "output_type": "display_data"
    }
   ],
   "source": [
    "W1, b1, W2, b2 = gradient_descent(X_train, Y_train, 0.1,500)"
   ]
  },
  {
   "cell_type": "code",
   "execution_count": 23,
   "id": "0a5e653b",
   "metadata": {},
   "outputs": [],
   "source": [
    "def make_predictions(X, W1, b1, W2, b2):\n",
    "    _, _, _, A2 = forward_prop(W1, b1, W2, b2, X)\n",
    "    predictions = get_predictions(A2)\n",
    "    return predictions\n",
    "\n",
    "def test_prediction(index, W1, b1, W2, b2):\n",
    "    current_image = X_train[:, index, None]\n",
    "    prediction = make_predictions(X_train[:, index, None], W1, b1, W2, b2)\n",
    "    label = Y_train[index]\n",
    "    print(\"Prediction: \", prediction)\n",
    "    print(\"Label: \", label)\n",
    "    \n",
    "    current_image = current_image.reshape((28, 28)) * 255\n",
    "    plt.gray()\n",
    "    plt.imshow(current_image, interpolation='nearest')\n",
    "    plt.show()"
   ]
  },
  {
   "cell_type": "code",
   "execution_count": 24,
   "id": "07b23008",
   "metadata": {},
   "outputs": [
    {
     "name": "stdout",
     "output_type": "stream",
     "text": [
      "Prediction:  [1]\n",
      "Label:  1\n"
     ]
    },
    {
     "data": {
      "image/png": "[encoded data removed]",
      "text/plain": [
       "<Figure size 432x288 with 1 Axes>"
      ]
     },
     "metadata": {
      "needs_background": "light"
     },
     "output_type": "display_data"
    },
    {
     "name": "stdout",
     "output_type": "stream",
     "text": [
      "Prediction:  [7]\n",
      "Label:  7\n"
     ]
    },
    {
     "data": {
      "image/png": "[encoded data removed]",
      "text/plain": [
       "<Figure size 432x288 with 1 Axes>"
      ]
     },
     "metadata": {
      "needs_background": "light"
     },
     "output_type": "display_data"
    },
    {
     "name": "stdout",
     "output_type": "stream",
     "text": [
      "Prediction:  [3]\n",
      "Label:  3\n"
     ]
    },
    {
     "data": {
      "image/png": "[encoded data removed]",
      "text/plain": [
       "<Figure size 432x288 with 1 Axes>"
      ]
     },
     "metadata": {
      "needs_background": "light"
     },
     "output_type": "display_data"
    },
    {
     "name": "stdout",
     "output_type": "stream",
     "text": [
      "Prediction:  [3]\n",
      "Label:  3\n"
     ]
    },
    {
     "data": {
      "image/png": "[encoded data removed]",
      "text/plain": [
       "<Figure size 432x288 with 1 Axes>"
      ]
     },
     "metadata": {
      "needs_background": "light"
     },
     "output_type": "display_data"
    }
   ],
   "source": [
    "test_prediction(0, W1, b1, W2, b2)\n",
    "test_prediction(1, W1, b1, W2, b2)\n",
    "test_prediction(2, W1, b1, W2, b2)\n",
    "test_prediction(3, W1, b1, W2, b2)"
   ]
  },
  {
   "cell_type": "code",
   "execution_count": null,
   "id": "3ef4516e",
   "metadata": {},
   "outputs": [],
   "source": []
  },
  {
   "cell_type": "code",
   "execution_count": null,
   "id": "fef5e9c9",
   "metadata": {},
   "outputs": [],
   "source": []
  }
 ],
 "metadata": {
  "kernelspec": {
   "display_name": "Python 3",
   "language": "python",
   "name": "python3"
  },
  "language_info": {
   "codemirror_mode": {
    "name": "ipython",
    "version": 3
   },
   "file_extension": ".py",
   "mimetype": "text/x-python",
   "name": "python",
   "nbconvert_exporter": "python",
   "pygments_lexer": "ipython3",
   "version": "3.7.11"
  }
 },
 "nbformat": 4,
 "nbformat_minor": 5
}
